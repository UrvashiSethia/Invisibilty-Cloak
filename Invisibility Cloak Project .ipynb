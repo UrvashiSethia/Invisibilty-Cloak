{
 "cells": [
  {
   "cell_type": "code",
   "execution_count": null,
   "id": "e46b2ba6",
   "metadata": {},
   "outputs": [],
   "source": []
  },
  {
   "cell_type": "markdown",
   "id": "0e388737",
   "metadata": {},
   "source": [
    "Invisibility Cloak = Current Frame - Cloth + First Frame"
   ]
  },
  {
   "cell_type": "code",
   "execution_count": 2,
   "id": "f03ff066",
   "metadata": {},
   "outputs": [
    {
     "name": "stdout",
     "output_type": "stream",
     "text": [
      "\n",
      "\n",
      "\n",
      "\n",
      "\n",
      "\n"
     ]
    }
   ],
   "source": [
    "import cv2\n",
    "import numpy\n",
    "\n",
    "\n",
    "#initial function for the callin of the trackbar\n",
    "def hello(x):\n",
    "    #only for referece\n",
    "    print(\"\")\n",
    "\n",
    "#initialisation of the camera\n",
    "cap = cv2.VideoCapture(0)\n",
    "bars = cv2.namedWindow(\"bars\")  #6 bars will be created as there will be 3 each values of upper hsv and lower hsv\n",
    "\n",
    "#Hue goes to maximum 180, and Value, Saturation go max to 255\n",
    "cv2.createTrackbar(\"upper_hue\",\"bars\",110,180,hello)\n",
    "cv2.createTrackbar(\"upper_saturation\",\"bars\",255, 255, hello)\n",
    "cv2.createTrackbar(\"upper_value\",\"bars\",255, 255, hello)\n",
    "cv2.createTrackbar(\"lower_hue\",\"bars\",68,180, hello)\n",
    "cv2.createTrackbar(\"lower_saturation\",\"bars\",55, 255, hello)\n",
    "cv2.createTrackbar(\"lower_value\",\"bars\",54, 255, hello)\n",
    "\n",
    "#Capturing the initial frame for creation of the background\n",
    "while(True):\n",
    "    cv2.waitKey(1000)\n",
    "    ret,init_frame = cap.read()\n",
    "    #check if the frame is returned then brake\n",
    "    if(ret):\n",
    "        break\n",
    "\n",
    "# Start capturing the frames for actual magic!!\n",
    "while(True):\n",
    "    ret,frame = cap.read()\n",
    "    inspect = cv2.cvtColor(frame, cv2.COLOR_BGR2HSV) #Converting BGR to HSV \n",
    "\n",
    "    \n",
    "    #getting the HSV values for masking the cloak\n",
    "    upper_hue = cv2.getTrackbarPos(\"upper_hue\", \"bars\")\n",
    "    upper_saturation = cv2.getTrackbarPos(\"upper_saturation\", \"bars\")\n",
    "    upper_value = cv2.getTrackbarPos(\"upper_value\", \"bars\")\n",
    "    lower_value = cv2.getTrackbarPos(\"lower_value\",\"bars\")\n",
    "    lower_hue = cv2.getTrackbarPos(\"lower_hue\",\"bars\")\n",
    "    lower_saturation = cv2.getTrackbarPos(\"lower_saturation\",\"bars\")\n",
    "\n",
    "    #Kernel to be used for dilation\n",
    "    kernel = numpy.ones((3,3),numpy.uint8) #to average the frame such that any small dots(if any) are removed\n",
    "\n",
    "    upper_hsv = numpy.array([upper_hue,upper_saturation,upper_value])\n",
    "    lower_hsv = numpy.array([lower_hue,lower_saturation,lower_value])\n",
    "\n",
    "    mask = cv2.inRange(inspect, lower_hsv, upper_hsv)\n",
    "    mask = cv2.medianBlur(mask,3) #to remove the impurities of the mask\n",
    "    mask_inv = 255-mask \n",
    "    mask = cv2.dilate(mask,kernel,5) #again to remove small impurities\n",
    "\n",
    "    #The mixing of frames in a combination to achieve the required frame\n",
    "    b = frame[:,:,0]\n",
    "    g = frame[:,:,1]\n",
    "    r = frame[:,:,2]\n",
    "    b = cv2.bitwise_and(mask_inv, b)\n",
    "    g = cv2.bitwise_and(mask_inv, g)\n",
    "    r = cv2.bitwise_and(mask_inv, r)\n",
    "    frame_inv = cv2.merge((b,g,r))\n",
    "\n",
    "    b = init_frame[:,:,0]\n",
    "    g = init_frame[:,:,1]\n",
    "    r = init_frame[:,:,2]\n",
    "    b = cv2.bitwise_and(b,mask)\n",
    "    g = cv2.bitwise_and(g,mask)\n",
    "    r = cv2.bitwise_and(r,mask)\n",
    "    blanket_area = cv2.merge((b,g,r))\n",
    "\n",
    "    final = cv2.bitwise_or(frame_inv, blanket_area) #to neglect the black area of both current frame and sheet\n",
    "    \n",
    "    cv2.imshow(\"Harry's Cloak\",final)\n",
    "\n",
    "    if(cv2.waitKey(3) == ord('q')): #to quit the function\n",
    "        break;\n",
    "\n",
    "cv2.destroyAllWindows()\n",
    "cap.release()"
   ]
  },
  {
   "cell_type": "code",
   "execution_count": null,
   "id": "ec6d8a0b",
   "metadata": {},
   "outputs": [],
   "source": []
  },
  {
   "cell_type": "code",
   "execution_count": null,
   "id": "ee79aec0",
   "metadata": {},
   "outputs": [],
   "source": []
  }
 ],
 "metadata": {
  "kernelspec": {
   "display_name": "Python 3",
   "language": "python",
   "name": "python3"
  },
  "language_info": {
   "codemirror_mode": {
    "name": "ipython",
    "version": 3
   },
   "file_extension": ".py",
   "mimetype": "text/x-python",
   "name": "python",
   "nbconvert_exporter": "python",
   "pygments_lexer": "ipython3",
   "version": "3.8.8"
  }
 },
 "nbformat": 4,
 "nbformat_minor": 5
}
